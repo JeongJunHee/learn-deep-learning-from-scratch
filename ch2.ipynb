{
 "cells": [
  {
   "cell_type": "markdown",
   "metadata": {},
   "source": [
    "## 퍼셉트론 (Perceptron)\n",
    "\n",
    "- 프랑크 로젠블라트가 1957년에 고안한 알고리즘\n",
    "- 신경망(딥러닝)의 기원이 되는 알고리즘"
   ]
  },
  {
   "cell_type": "markdown",
   "metadata": {},
   "source": [
    "### 2.1 퍼셉트론이란?\n",
    "\n",
    "- 다수의 신호를 받아 하나의 신호를 출력한다. 신호란 전류나 강물처럼 흐름이 있는 것\n",
    "- 퍼셉트론 신호는 흐름을 만들고 정보를 앞으로 전달하며 '흐른다/안 흐른다(1 이나 0)'의 두 가지 값을 가질 수 있다.\n",
    "- 퍼셉트론은 복수의 입력 신호 각각에 고유한 가중치를 부여한다.\n",
    "- 가중치는 각 신호가 결과에 주는 영향력을 조절하는 요소로 작용한다.\n",
    "- 즉, 가중치가 클수록 해당 신호가 그만큼 더 중요함을 뜻한다, "
   ]
  },
  {
   "cell_type": "markdown",
   "metadata": {},
   "source": [
    "### 2.2 단순한 논리 회로"
   ]
  },
  {
   "cell_type": "markdown",
   "metadata": {},
   "source": [
    "#### 2.2.1 AND 게이트\n",
    "\n",
    "- 두 입력이 모두 1일 떄만 1을 출력하고, 그 외에는 0을 출력한다.\n",
    "\n",
    "<img src=\"image/ch2/2-1.png\" width=\"300px\" align=\"left\">"
   ]
  },
  {
   "cell_type": "markdown",
   "metadata": {},
   "source": [
    "#### 2.2.2 NAND 게이트\n",
    "\n",
    "- NAND는 Not AND를 의미한다. 즉, AND 게이트의 출력을 뒤집은 것\n",
    "- x1과 x2가 모두 1일 때만 0을 출력하고, 그 외에는 1을 출력한다.\n",
    "\n",
    "<img src=\"image/ch2/2-2.png\" width=\"300px\" align=\"left\">"
   ]
  },
  {
   "cell_type": "markdown",
   "metadata": {},
   "source": [
    "#### 2.2.3 OR 게이트\n",
    "\n",
    "- OR 게이트는 입력 신호중 하나 이상이 1이면 출력이 1이 되는 논리 회로이다\n",
    "\n",
    "<img src=\"image/ch2/2-3.png\" width=\"300px\" align=\"left\">"
   ]
  },
  {
   "cell_type": "markdown",
   "metadata": {},
   "source": [
    "### 2.3 퍼셉트론 구현하기\n",
    "\n",
    "#### 2.3.1 간단한 구현부터"
   ]
  },
  {
   "cell_type": "code",
   "execution_count": 1,
   "metadata": {
    "collapsed": true
   },
   "outputs": [],
   "source": [
    "def AND(x1, x2):\n",
    "    w1, w2, theta = 0.5, 0.5, 0.7\n",
    "    tmp = x1 * w1 + x2 * w2\n",
    "    if tmp <= theta:\n",
    "        return 0\n",
    "    elif tmp > theta:\n",
    "        return 1"
   ]
  },
  {
   "cell_type": "code",
   "execution_count": 2,
   "metadata": {},
   "outputs": [
    {
     "name": "stdout",
     "output_type": "stream",
     "text": [
      "0\n",
      "0\n",
      "0\n",
      "1\n"
     ]
    }
   ],
   "source": [
    "print(AND(0, 0))\n",
    "print(AND(0, 1))\n",
    "print(AND(1, 0))\n",
    "print(AND(1, 1))"
   ]
  },
  {
   "cell_type": "markdown",
   "metadata": {},
   "source": [
    "#### 2.3.2 가중치와 편향 도입"
   ]
  },
  {
   "cell_type": "markdown",
   "metadata": {},
   "source": [
    "<img src=\"image/ch2/2-4.png\" width=\"300px\" align=\"left\">"
   ]
  },
  {
   "cell_type": "markdown",
   "metadata": {},
   "source": [
    "- 퍼셉트론은 입력 신호에 가중치(weight)를 곱한 값과 편향(bias)을 합하여 그 값이 0을 넘으면 1을 출력하고 그렇지 않으면 0을 출력한다.\n",
    "- w1과 w2는 각 입력 신호가 결과에 주는 영향력(중요도)을 조절하는 매개변수.\n",
    "- 편향의 값은 뉴런이 얼마나 쉽게 활성화되는지를 결정한다."
   ]
  },
  {
   "cell_type": "code",
   "execution_count": 3,
   "metadata": {},
   "outputs": [
    {
     "data": {
      "text/plain": [
       "array([ 0. ,  0.5])"
      ]
     },
     "execution_count": 3,
     "metadata": {},
     "output_type": "execute_result"
    }
   ],
   "source": [
    "import numpy as np\n",
    "x = np.array([0, 1]) #입력\n",
    "w = np.array([0.5, 0.5]) #가중치\n",
    "b = -0.7 #편향\n",
    "w * x"
   ]
  },
  {
   "cell_type": "code",
   "execution_count": 4,
   "metadata": {},
   "outputs": [
    {
     "data": {
      "text/plain": [
       "0.5"
      ]
     },
     "execution_count": 4,
     "metadata": {},
     "output_type": "execute_result"
    }
   ],
   "source": [
    "np.sum(w * x)"
   ]
  },
  {
   "cell_type": "code",
   "execution_count": 5,
   "metadata": {},
   "outputs": [
    {
     "data": {
      "text/plain": [
       "-0.19999999999999996"
      ]
     },
     "execution_count": 5,
     "metadata": {},
     "output_type": "execute_result"
    }
   ],
   "source": [
    "np.sum(w * x) + b"
   ]
  },
  {
   "cell_type": "code",
   "execution_count": 6,
   "metadata": {
    "collapsed": true
   },
   "outputs": [],
   "source": [
    "def NAND(x1, x2):\n",
    "    x = np.array([x1, x2])\n",
    "    w = np.array([-0.5, -0.5])\n",
    "    b = 0.7\n",
    "    tmp = np.sum(w * x) + b\n",
    "    if tmp <= 0:\n",
    "        return 0\n",
    "    else:\n",
    "        return 1\n",
    "    \n",
    "def OR(x1, x2):\n",
    "    x = np.array([x1, x2])\n",
    "    w = np.array([0.5, 0.5])\n",
    "    b = -0.2\n",
    "    tmp =np.sum(w * x) + b\n",
    "    if tmp <= 0:\n",
    "        return 0\n",
    "    else:\n",
    "        return 1"
   ]
  },
  {
   "cell_type": "markdown",
   "metadata": {},
   "source": [
    "### 2.4 퍼셉트론의 한계\n",
    "\n",
    "#### 2.4.1 XOR 게이트\n",
    "\n",
    "- XOR 게이트는 배타적 논리 회로이다."
   ]
  },
  {
   "cell_type": "markdown",
   "metadata": {},
   "source": [
    "#### 2.4.2 선형과 비선형\n",
    "\n",
    "- 퍼셉트론은 직선 하나로 나눈 영역만 표현할 수 있다는 한계가 있다. 즉, 곡선은 표현 할 수 없다.\n",
    "- 곡선의 영역을 비선형 영역, 직선의 영역을 선형 영역이라고 한다."
   ]
  },
  {
   "cell_type": "markdown",
   "metadata": {},
   "source": [
    "### 2.5 다층 퍼셉트론이 출동한다면\n",
    "\n",
    "#### 2.5.1 기존 게이트 조합하기\n",
    "\n",
    "- XOR 게이트를 만드는 방법: AND, NAND, OR 게이트를 조합하는 방법"
   ]
  },
  {
   "cell_type": "markdown",
   "metadata": {},
   "source": [
    "** AND, NAND, OR 게이트 기호**\n",
    "\n",
    "<img src=\"image/ch2/2-5.png\" width=\"300px\" align=\"left\">"
   ]
  },
  {
   "cell_type": "markdown",
   "metadata": {},
   "source": [
    "** AND, NAND, OR 게이트를 조합해 구현한 XOR 게이트**\n",
    "\n",
    "<img src=\"image/ch2/2-6.png\" width=\"300px\" align=\"left\">"
   ]
  },
  {
   "cell_type": "markdown",
   "metadata": {},
   "source": [
    "**XOR 게이트의 진리표**\n",
    "\n",
    "<img src=\"image/ch2/2-7.png\" width=\"300px\" align=\"left\">"
   ]
  },
  {
   "cell_type": "markdown",
   "metadata": {},
   "source": [
    "#### 2.5.2 XOR 게이트 구현하기\n",
    "\n",
    "- XOR은 다층 구조의 네트워크\n",
    "- AND, OR이 단층 퍼셉트론인 데 반해, XOR은 2층 퍼셉트론이다.\n",
    "- 층이 여러개인 퍼셉트론을 다층 퍼셉트론이라고 한다."
   ]
  },
  {
   "cell_type": "code",
   "execution_count": 7,
   "metadata": {
    "collapsed": true
   },
   "outputs": [],
   "source": [
    "def XOR(x1, x2):\n",
    "    s1 = NAND(x1, x2)\n",
    "    s2 = OR(x1, x2)\n",
    "    y = AND(s1, s2)\n",
    "    return y"
   ]
  },
  {
   "cell_type": "code",
   "execution_count": 8,
   "metadata": {},
   "outputs": [
    {
     "name": "stdout",
     "output_type": "stream",
     "text": [
      "0\n",
      "1\n",
      "1\n",
      "0\n"
     ]
    }
   ],
   "source": [
    "print(XOR(0, 0))\n",
    "print(XOR(0, 1))\n",
    "print(XOR(1, 0))\n",
    "print(XOR(1, 1))"
   ]
  },
  {
   "cell_type": "markdown",
   "metadata": {},
   "source": [
    "**XOR의 퍼셉트론**\n",
    "\n",
    "<img src=\"image/ch2/2-8.png\" width=\"300px\" align=\"left\">"
   ]
  },
  {
   "cell_type": "markdown",
   "metadata": {},
   "source": [
    "### 2.6 NAND에서 컴퓨터까지\n",
    "\n",
    "- 다층 퍼셉트론은 복잡한 회로를 만들 수 있다.\n",
    "    - ex) 가산기, 인코더, 패리티 검사 회로\n",
    "- NAND 게이트의 조합만으로 컴퓨터가 수행하는 일을 재현할 수 있다."
   ]
  },
  {
   "cell_type": "markdown",
   "metadata": {},
   "source": [
    "### 2.7 정리\n",
    "\n",
    "- 퍼셉트론은 입출력을 갖춘 알고리즘이다. 입력을 주면 정해진 규칙에 따른 값을 출력한다.\n",
    "- 퍼셉트론에서는 '가중치'와 편향을 매개변수로 설정한다.\n",
    "- 퍼셉트론으로 AND, OR 게이트 등의 논리 회로를 표현하 수 있다.\n",
    "- XOR 게이트는 단층 퍼셉트론으로 표현할 수 없다.\n",
    "- 2층 퍼셉트론을 이용하면 XOR 게이트를 표현할 수 있다.\n",
    "- 단층 퍼셉트론은 직선형 영역만 표현 할 수 있고, 다층 퍼셉트론은 비선형 영역도 표현할 수 있다.\n",
    "- 다층 퍼셉트론은 (이론상) 컴퓨터를 표현할 수 있다>"
   ]
  }
 ],
 "metadata": {
  "anaconda-cloud": {},
  "kernelspec": {
   "display_name": "Python 3",
   "language": "python",
   "name": "python3"
  },
  "language_info": {
   "codemirror_mode": {
    "name": "ipython",
    "version": 3
   },
   "file_extension": ".py",
   "mimetype": "text/x-python",
   "name": "python",
   "nbconvert_exporter": "python",
   "pygments_lexer": "ipython3",
   "version": "3.6.3"
  }
 },
 "nbformat": 4,
 "nbformat_minor": 1
}
